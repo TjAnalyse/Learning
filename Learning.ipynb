{
 "cells": [
  {
   "cell_type": "markdown",
   "id": "e1f7741c-ad8e-4026-ac8f-c78f983bf811",
   "metadata": {},
   "source": [
    "# Escape Sequence"
   ]
  },
  {
   "cell_type": "code",
   "execution_count": 43,
   "id": "3dbf5ffb-8966-487f-98fe-cf5d580c4da9",
   "metadata": {
    "tags": []
   },
   "outputs": [
    {
     "name": "stdout",
     "output_type": "stream",
     "text": [
      "It's Sunny\n"
     ]
    }
   ],
   "source": [
    "#E.g\n",
    "weather = 'It\\'s Sunny'\n",
    "print(weather)\n",
    "#The slash (\\) there means that what ever comes after it is a string, unless, python is just gonna assume that the beginning\n",
    "#and the end of the string is \"It\" and then \"s Sunny\" will not matter."
   ]
  },
  {
   "cell_type": "code",
   "execution_count": 44,
   "id": "fde68439-5938-40ba-a7e2-8d5ff7f60b9c",
   "metadata": {
    "tags": []
   },
   "outputs": [
    {
     "name": "stdout",
     "output_type": "stream",
     "text": [
      "\t It's so warm in this room.\n",
      " I hope you like it\n"
     ]
    }
   ],
   "source": [
    "#It also has other functions attached to it like (\"\\t\", \"\\n\")\n",
    "#\"\\t\" is to add a tab before the next word or letter and \"\\n\" is to add a new line\n",
    "#e.g\n",
    "b = \"\\t It\\'s so warm in this room.\\n I hope you like it\"\n",
    "print(b)"
   ]
  },
  {
   "cell_type": "markdown",
   "id": "2af813c3-27c0-4e0e-b1ff-a6c3daa50ad5",
   "metadata": {},
   "source": [
    "# Formatted Strings"
   ]
  },
  {
   "cell_type": "code",
   "execution_count": 45,
   "id": "5b82ef85-9ce1-4072-b335-bcf70b2db10e",
   "metadata": {
    "tags": []
   },
   "outputs": [
    {
     "name": "stdout",
     "output_type": "stream",
     "text": [
      "hello Darius. You are 34 years old.\n",
      "hello Darius. You are 34 years old\n"
     ]
    }
   ],
   "source": [
    "#For example we want to collect someone's name and use it in their profile\n",
    "#Instead of writing all the names in the world, you can do this\n",
    "\n",
    "name = 'Darius'\n",
    "age = 34\n",
    "print('hello ' +name+'. You are ' +str(age)+ ' years old.')\n",
    "\n",
    "#so, instead of writing this like this, you can just use formatted strings. I.e\n",
    "\n",
    "name1 = 'Darius'\n",
    "age1 = 34\n",
    "print(f'hello {name1}. You are {age1} years old') #just make sure that the \"f\" before it is there.\n",
    "#The \"f\" is telling python that this is going to be a formatted string."
   ]
  },
  {
   "cell_type": "markdown",
   "id": "c240b0b4-8d61-492c-bbd9-6c64667ab48b",
   "metadata": {},
   "source": [
    "# String Index"
   ]
  },
  {
   "cell_type": "code",
   "execution_count": 46,
   "id": "d17dd754-50d1-401c-b2ad-62ad7adca317",
   "metadata": {
    "tags": []
   },
   "outputs": [
    {
     "name": "stdout",
     "output_type": "stream",
     "text": [
      "h\n",
      "I am stephen\n",
      "Imth u\n",
      "e\n",
      "eyouko nehpets ma I\n",
      "eok ept aI\n",
      "Ia tpe \n"
     ]
    }
   ],
   "source": [
    "#it is just talking about strings assigned to number, like printing out a particular string from a string\n",
    "#For example,\n",
    "trial = 'max house'\n",
    "       # 012345678, so therefore we are saying. m=0, a=1, x=2... Check this\n",
    "print(trial[4])    # it printed h because h=4 in the index\n",
    "# The 'square bracket[]' is indicating where i want python to look,\n",
    "# And we can also have the ':' which indicates where to stop. For example:\n",
    "name = 'I am stephen okuoye'  # and,\n",
    "print(name[0:12])\n",
    "# Then we have stepover. Basically it is [start:stop:stepover by the number]. For example\n",
    "print(name[0:17:3])\n",
    "# There is also the minus(-) part\n",
    "print(name[-1]) #print the last one I.e. from the back\n",
    "print(name[::-1]) #print all from behind\n",
    "print(name[::-2]) #print all from behind but stepover by 2\n",
    "print(name[:-5:2]) #start from the beginning but, let the stopping be from behind and the step over from both sides but use behind stopping"
   ]
  },
  {
   "cell_type": "markdown",
   "id": "d9b64cb9-e67e-469f-86d5-4d66baf91f92",
   "metadata": {},
   "source": [
    "# Boolean"
   ]
  },
  {
   "cell_type": "code",
   "execution_count": 47,
   "id": "8230e3a6-32e6-4234-9893-9081282b368f",
   "metadata": {},
   "outputs": [
    {
     "name": "stdin",
     "output_type": "stream",
     "text": [
      "what is your birh year? 2004\n"
     ]
    },
    {
     "name": "stdout",
     "output_type": "stream",
     "text": [
      "your age is: 20\n"
     ]
    }
   ],
   "source": [
    "birth_year = int(input(\"what is your birh year?\"))\n",
    "age = 2024 - birth_year\n",
    "print(f'your age is: {age}')"
   ]
  },
  {
   "cell_type": "code",
   "execution_count": 48,
   "id": "962b9445-2392-4013-977f-aa4dc601b781",
   "metadata": {
    "tags": []
   },
   "outputs": [
    {
     "name": "stdin",
     "output_type": "stream",
     "text": [
      "what is your user name Tijesu\n",
      "what is your password basit\n"
     ]
    },
    {
     "name": "stdout",
     "output_type": "stream",
     "text": [
      "Tijesu, your password ***** is 5 letters long\n"
     ]
    }
   ],
   "source": [
    "# password checker\n",
    "username = input('what is your user name')\n",
    "pswd = input('what is your password')\n",
    "pswd_length = len(pswd)\n",
    "hidden_pswd = \"*\" * pswd_length\n",
    "\n",
    "print(f'{username}, your password {hidden_pswd} is {pswd_length} letters long')"
   ]
  },
  {
   "cell_type": "markdown",
   "id": "c47d35d2-69aa-442b-b16a-5b75fbbee2b7",
   "metadata": {},
   "source": [
    "# list"
   ]
  },
  {
   "cell_type": "code",
   "execution_count": 49,
   "id": "da5dbc1b-8ab2-4b1b-b9f5-50e8c79ddcb6",
   "metadata": {
    "tags": []
   },
   "outputs": [
    {
     "name": "stdout",
     "output_type": "stream",
     "text": [
      "['notebooks', 'gum', 'phones', 'brush']\n"
     ]
    }
   ],
   "source": [
    "amazon_cart = ['notebooks', 'toys', 'phones', 'brush']\n",
    "\n",
    "#lists are mutable i.e. it can be changed unlike strings\n",
    "amazon_cart[1] = 'gum' #it has overwritten toys as gums and made a new copy\n",
    "\n",
    "print(amazon_cart)"
   ]
  },
  {
   "cell_type": "markdown",
   "id": "d7d3a51d-004f-4e0d-b5c8-8c30bd9b4266",
   "metadata": {},
   "source": [
    "# Matrix"
   ]
  },
  {
   "cell_type": "code",
   "execution_count": 50,
   "id": "6f99b041-6490-47e2-b844-e4f705fa3e1a",
   "metadata": {
    "tags": []
   },
   "outputs": [
    {
     "name": "stdout",
     "output_type": "stream",
     "text": [
      "3\n"
     ]
    }
   ],
   "source": [
    "matrix = [[1,2,3,4],\n",
    "         [2,4,6,8],\n",
    "         [7,8,9]]\n",
    "\n",
    "#To access the numbers or list we do\n",
    "n = matrix[0][2] # zero there means first list, two there means third item in the first list which is 3\n",
    "print(n)"
   ]
  },
  {
   "cell_type": "code",
   "execution_count": 51,
   "id": "4f9cb3d1-69b5-4e8d-80fc-33224b965ea3",
   "metadata": {
    "tags": []
   },
   "outputs": [
    {
     "name": "stdout",
     "output_type": "stream",
     "text": [
      "6\n",
      "1 [1, 2, 3, 4, 5, 6, 7]\n",
      "2 [1, 2, 3, 29, 4, 5, 6, 7]\n",
      "3 [1, 2, 3, 29, 4, 5, 6, 7, 122, 233, 933]\n",
      "4 [1, 2, 3, 29, 4, 5, 6, 7, 233, 933]\n",
      "5 [1, 2, 3, 29, 4, 5, 6, 7, 233]\n",
      "6 [1, 3, 29, 4, 5, 6, 7, 233]\n",
      "7 []\n"
     ]
    }
   ],
   "source": [
    "#list methods\n",
    "basket = [1,2,3,4,5,6]\n",
    "print(len(basket))\n",
    "\n",
    "#adding\n",
    "basket.append(7) #it added 7 at the end\n",
    "print(1,basket)\n",
    "basket.insert(3,29) #it inserted 29 at the fourth place\n",
    "print(2,basket)\n",
    "basket.extend([122,233,933]) #it adds the new list i told it to at the end\n",
    "print(3,basket)\n",
    "\n",
    "#removing\n",
    "basket.remove(122) #it removes the number i told it to from the updated list\n",
    "print(4,basket)\n",
    "basket.pop()  #removes the last object from the updated list and which in this case is 933\n",
    "print(5,basket)\n",
    "basket.pop(1) #but when i add a number in the bracket it removes the item in that index fom the updated list i.e No. 2 here\n",
    "print(6,basket)\n",
    "basket.clear() #this completely removes whatever is on the list\n",
    "print(7,basket)\n",
    "\n",
    "#Note: the numbers in the print are just there so that i could know the block print for which"
   ]
  },
  {
   "cell_type": "code",
   "execution_count": 52,
   "id": "b78f4a55-6908-4b4e-a73e-ad5d009ae2da",
   "metadata": {
    "tags": []
   },
   "outputs": [
    {
     "name": "stdout",
     "output_type": "stream",
     "text": [
      "3\n",
      "3\n",
      "True\n",
      "2\n",
      "['a', 'a', 'b', 'c', 'd', 'e', 'f', 'g', 'r']\n",
      "['a', 'a', 'b', 'c', 'd', 'e', 'f', 'g', 'r']\n",
      "['a', 'a', 'b', 'c', 'd', 'e', 'f', 'g', 'r']\n",
      "['r', 'g', 'f', 'e', 'd', 'c', 'b', 'a', 'a']\n"
     ]
    }
   ],
   "source": [
    "#lists method continuation\n",
    "you = [\"a\",\"b\",\"c\",\"d\",\"e\",\"f\",\"g\", \"a\"]\n",
    "print(you.index(\"d\")) #it tells us the index or shelf \"d\" is\n",
    "print(you.index(\"d\", 1, 5)) #if you probably have a longer list and there are repetitives you might want to tell your program\n",
    "  # where to start looking and where to stop looking so, from here i told it to start looking from index 1 and stop at index 5\n",
    "\n",
    "print(\"d\" in you) #to know if what we need is in the list\n",
    "\n",
    "print(you.count(\"a\")) #to count how many times an item occur in a list or string or number, etc\n",
    "\n",
    "they = [\"a\",\"b\",\"c\",\"d\",\"e\",\"f\",\"g\",\"a\",\"r\"]\n",
    "they.sort() #from the word; it arranges\n",
    "print(they)\n",
    "\n",
    "print(sorted(they)) #sorted is a function, it sorts the list but, it does not modify it i.e if i print they after sorted it will still be unarranged\n",
    "n = they.copy() #copies the list and returns it\n",
    "print(n) #it is printing out the arranged one because we used \".sort()\" and it has modified it\n",
    "\n",
    "they.reverse() # it reverses the list, and now because the list has been sorted before, it prints out the sorted list in reverse\n",
    "print(they)"
   ]
  },
  {
   "cell_type": "markdown",
   "id": "c525753d-f649-451b-99ab-c126cadf141a",
   "metadata": {},
   "source": [
    "## common list pattern\n"
   ]
  },
  {
   "cell_type": "code",
   "execution_count": 53,
   "id": "918c40db-17e3-4f09-a8ca-8363419e4ae3",
   "metadata": {
    "tags": []
   },
   "outputs": [
    {
     "name": "stdout",
     "output_type": "stream",
     "text": [
      "['r', 'a', 'g', 'f', 'e', 'd', 'c', 'b', 'a']\n",
      "[1, 2, 3, 4, 5, 6, 7, 8, 9, 10, 11, 12, 13, 14, 15, 16, 17, 18, 19, 20, 21, 22, 23, 24, 25, 26, 27, 28, 29, 30, 31, 32, 33, 34, 35, 36, 37, 38, 39, 40, 41, 42, 43, 44, 45, 46, 47, 48, 49, 50, 51, 52, 53, 54, 55, 56, 57, 58, 59, 60, 61, 62, 63, 64, 65, 66, 67, 68, 69, 70, 71, 72, 73, 74, 75, 76, 77, 78, 79, 80, 81, 82, 83, 84, 85, 86, 87, 88, 89, 90, 91, 92, 93, 94, 95, 96, 97, 98, 99, 100]\n",
      "himynameisBARRY\n",
      "hi my name is BARRY\n",
      "hi*my*name*is*BARRY\n"
     ]
    }
   ],
   "source": [
    "# we can reverse a list by using list slicing\n",
    "my = [\"a\",\"b\",\"c\",\"d\",\"e\",\"f\",\"g\",\"a\",\"r\"]\n",
    "print(my[::-1])\n",
    "\n",
    "# getting the list of a range\n",
    "print(list(range(1,101)))\n",
    "\n",
    "# combining list into string\n",
    "flash = ''.join(['hi','my','name','is','BARRY']) # no space btw the inverted commas\n",
    "print(flash)\n",
    "drive = ' '.join(['hi','my','name','is','BARRY']) # there is space btw the inverted commas\n",
    "print(drive)\n",
    "boy = '*'.join(['hi','my','name','is','BARRY']) # there is '*' btw the inverted commas\n",
    "print(boy)"
   ]
  },
  {
   "cell_type": "code",
   "execution_count": 54,
   "id": "ead8afe8-04fb-48db-92f4-0718e592533f",
   "metadata": {},
   "outputs": [
    {
     "name": "stdout",
     "output_type": "stream",
     "text": [
      "1\n",
      "2\n",
      "3\n",
      "[4, 5, 6, 7, 8]\n",
      "9\n"
     ]
    }
   ],
   "source": [
    "# list unpacking i.e. assigning each in a list to a variable\n",
    "a,b,c, *rest, you = [1,2,3,4,5,6,7,8,9]\n",
    "# when you add comma to \"abc\" it assigns each to the first three items in the list\n",
    "# to add the remaining i.e. from 4-9 to just one variable, you use \",\" and \"*\" then write the variable you want to assign it to\n",
    "# the 'you' variable means i am assigning the last item to \"you\" making variable 'rest' have from 3-8\n",
    "print(a)\n",
    "print(b)\n",
    "print(c)\n",
    "print(rest)\n",
    "print(you)"
   ]
  },
  {
   "cell_type": "markdown",
   "id": "2b93756c-1232-4fa3-a070-8d6a656cefa1",
   "metadata": {},
   "source": [
    "# Dictionaries"
   ]
  },
  {
   "cell_type": "code",
   "execution_count": 55,
   "id": "696a910a-6cb0-4a1c-88b0-f9aa88a93e95",
   "metadata": {
    "tags": []
   },
   "outputs": [
    {
     "name": "stdout",
     "output_type": "stream",
     "text": [
      "{'yam': '2tubers'}\n",
      "True\n",
      "False\n",
      "True\n",
      "True\n",
      "{'weapons': 'armory', 'greet': 'hello', 'greeting': 'HI'}\n"
     ]
    }
   ],
   "source": [
    "# to ways to creating a dictionary\n",
    "# 1\n",
    "user = {\n",
    "    'age' : [1,2,3],\n",
    "    \"weapons\":\"armory\",\n",
    "    \"greet\":\"hello\"\n",
    "}\n",
    "# 2\n",
    "user2 = dict(yam = '2tubers') # this is not common\n",
    "print(user2)\n",
    "\n",
    "# to check if a key is in the dictionary\n",
    "print(\"age\" in user)\n",
    "print(\"basket\" in user)\n",
    "print(\"age\" in user.keys())\n",
    "\n",
    "# to check if a value is in the dictionary\n",
    "print(\"hello\" in user.values())\n",
    "\n",
    "user.pop(\"age\")\n",
    "\n",
    "user.update({\"greeting\":\"HI\"})\n",
    "print(user)"
   ]
  },
  {
   "cell_type": "markdown",
   "id": "c502defc-8e14-4c4f-812a-5e7355737bb6",
   "metadata": {},
   "source": [
    "# Tuples\n",
    "#### Tuples are like lists but, unlike lista they cannot be modified therefore, they are immutable\n",
    "#### They are faster than a list, they are less flexible. for tuples, only two methods can be used \n",
    "#### i.e. index() and count(). you can also find the length."
   ]
  },
  {
   "cell_type": "code",
   "execution_count": 56,
   "id": "ba2357f8-6525-4449-8cf0-ea7fc9ed0dc6",
   "metadata": {
    "tags": []
   },
   "outputs": [
    {
     "name": "stdout",
     "output_type": "stream",
     "text": [
      "2\n",
      "True\n",
      "(1, 2, 2)\n",
      "2\n",
      "4\n",
      "6\n"
     ]
    }
   ],
   "source": [
    "# For example \n",
    "my_tuple = (1,2,2,3,4,5) # they are denoted using brackets. you can perform funtions like\n",
    "\n",
    "x = my_tuple[0:3]\n",
    "print( my_tuple[1])\n",
    "print(5 in my_tuple)\n",
    "print(x)\n",
    "print(my_tuple.count(2))\n",
    "print(my_tuple.index(4))\n",
    "print(len(my_tuple))"
   ]
  },
  {
   "cell_type": "markdown",
   "id": "556840b3-0440-41b2-9f32-4a6f1bd15348",
   "metadata": {},
   "source": [
    "# Set. It is an unordered collection of unique objects. i.e in a set there is no duplicate. check second code bar for example- Example 1\n",
    "### It is created using curly bracket like a dictionary, it does not have key value\n",
    "#### There are funtions that a set can perform. For examples"
   ]
  },
  {
   "cell_type": "code",
   "execution_count": 57,
   "id": "7e8e0c64-b066-4582-b8c9-71969bf0e796",
   "metadata": {
    "tags": []
   },
   "outputs": [
    {
     "name": "stdout",
     "output_type": "stream",
     "text": [
      "{1, 2, 3, 4, 5}\n",
      "True\n"
     ]
    }
   ],
   "source": [
    "# Example 1\n",
    "my_set = {1,2,3,3,4,5,5,}\n",
    "print(my_set) # it prints only the uunique objects\n",
    "# N.B: A function cannot perform indexing directly, but rather, you can find a value in it. e.g\n",
    "print(4 in my_set)"
   ]
  },
  {
   "cell_type": "code",
   "execution_count": 58,
   "id": "e66f4471-7804-4d8d-9793-b3dcafa8ec31",
   "metadata": {
    "tags": []
   },
   "outputs": [
    {
     "name": "stdout",
     "output_type": "stream",
     "text": [
      "{1, 2, 3, 4, 5}\n"
     ]
    }
   ],
   "source": [
    "# To change a list to a set\n",
    "my_list = [1,2,3,3,4,5,5,]\n",
    "print(set(my_list))"
   ]
  },
  {
   "cell_type": "code",
   "execution_count": 59,
   "id": "4ef24449-f7ef-457a-96de-f3550f806734",
   "metadata": {
    "tags": []
   },
   "outputs": [
    {
     "name": "stdout",
     "output_type": "stream",
     "text": [
      "{1, 2, 3}\n",
      "{1, 2, 3, 4}\n",
      "{1, 2, 3}\n",
      "set()\n",
      "True\n",
      "{1, 2, 3, 4, 5, 6, 7, 8, 9, 10}\n",
      "{1, 2, 3, 4, 5, 6, 7, 8, 9, 10}\n",
      "False\n",
      "False\n"
     ]
    }
   ],
   "source": [
    "# Funtions\n",
    "my_set = {1,2,3,4,5}\n",
    "your_set = {4,5,6,7,8,9,10}\n",
    "\n",
    "print(my_set.difference(your_set))\n",
    "\n",
    "my_set.discard(5)\n",
    "print(my_set) \n",
    "\n",
    "my_set.difference_update(your_set) # the differences are removed and the set is updated\n",
    "print(my_set)\n",
    "\n",
    "print(my_set.intersection(your_set))  # it prints what is common to both\n",
    "\n",
    "print(my_set.isdisjoint(your_set)) # This is saying \"do they have something in common\"\n",
    "\n",
    "print(my_set.union(your_set)) # joins them together, but removes any dplicate or you can do what is below\n",
    "print(my_set|your_set) # same as the above\n",
    "\n",
    "print(my_set.issubset(your_set)) #this is to know if a set is in another set\n",
    "\n",
    "print(my_set.issuperset(your_set)) # this is to know if the first set holds what is in the second set"
   ]
  },
  {
   "cell_type": "code",
   "execution_count": null,
   "id": "d9b3a937-70d6-4fcf-8798-ef6c5255d5e4",
   "metadata": {},
   "outputs": [],
   "source": []
  }
 ],
 "metadata": {
  "kernelspec": {
   "display_name": "Python 3 (ipykernel)",
   "language": "python",
   "name": "python3"
  },
  "language_info": {
   "codemirror_mode": {
    "name": "ipython",
    "version": 3
   },
   "file_extension": ".py",
   "mimetype": "text/x-python",
   "name": "python",
   "nbconvert_exporter": "python",
   "pygments_lexer": "ipython3",
   "version": "3.11.5"
  }
 },
 "nbformat": 4,
 "nbformat_minor": 5
}
