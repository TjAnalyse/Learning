{
 "cells": [
  {
   "cell_type": "code",
   "execution_count": 2,
   "id": "667cc386-f9ea-4f79-a12e-882f7e1fce7c",
   "metadata": {
    "tags": []
   },
   "outputs": [
    {
     "name": "stdin",
     "output_type": "stream",
     "text": [
      "what year were you born? 2004\n"
     ]
    },
    {
     "name": "stdout",
     "output_type": "stream",
     "text": [
      "you are 20 years old.\n"
     ]
    }
   ],
   "source": [
    "# TO GET THE CURRENT AGE BY HAVING THE YEAR\n",
    "\n",
    "birth_year = int(input('what year were you born?'))\n",
    "age = 2024 - birth_year\n",
    "print(f'you are {age} years old.')"
   ]
  },
  {
   "cell_type": "code",
   "execution_count": 3,
   "id": "84ff5133-a937-4346-bd34-9714a58d1263",
   "metadata": {
    "tags": []
   },
   "outputs": [
    {
     "name": "stdin",
     "output_type": "stream",
     "text": [
      "What is your user name tijesu\n",
      "What is your password ayomideo\n"
     ]
    },
    {
     "name": "stdout",
     "output_type": "stream",
     "text": [
      "Hey, tijesu. Your password, ******** is 8 letters long.\n"
     ]
    }
   ],
   "source": [
    "# Password Checker\n",
    "user_name = input(\"What is your user name\")\n",
    "password = input(\"What is your password\")\n",
    "\n",
    "password_length = len(password)\n",
    "hidden_password = '*' * password_length\n",
    "\n",
    "print(f'Hey, {user_name}. Your password, {hidden_password} is {password_length} letters long.')"
   ]
  },
  {
   "cell_type": "code",
   "execution_count": 7,
   "id": "77ff3287-8514-4eb7-ae59-20d5e96f36e4",
   "metadata": {
    "tags": []
   },
   "outputs": [
    {
     "name": "stdin",
     "output_type": "stream",
     "text": [
      "Are you above 18? True or False No\n",
      "Are you licensed? Yes or No no\n"
     ]
    },
    {
     "name": "stdout",
     "output_type": "stream",
     "text": [
      "You cant drive for now\n"
     ]
    }
   ],
   "source": [
    "# Driving eligibility Check\n",
    "is_old = bool(input('Are you above 18? True or False'))\n",
    "is_licensed = input('Are you licensed? Yes or No')\n",
    "\n",
    "if is_old == True and is_licensed == \"Yes\":\n",
    "    print(\"you are eligible to drive\")\n",
    "else:\n",
    "    print(\"You cant drive for now\")"
   ]
  },
  {
   "cell_type": "code",
   "execution_count": 13,
   "id": "911a8568-127e-4534-9541-7892a98ea62c",
   "metadata": {
    "tags": []
   },
   "outputs": [
    {
     "name": "stdout",
     "output_type": "stream",
     "text": [
      "you are not allowed to message\n"
     ]
    }
   ],
   "source": [
    "# Ternary operator\n",
    "# condition_if_true if true else condition_if_false. e.g.\n",
    "\n",
    "is_friend = False\n",
    "message_eligibility = \"you can message\" if is_friend else \"you are not allowed to message\"\n",
    "print(message_eligibility)"
   ]
  },
  {
   "cell_type": "code",
   "execution_count": 22,
   "id": "3e90dddb-5763-432a-876c-13d2c7cbb410",
   "metadata": {
    "tags": []
   },
   "outputs": [
    {
     "name": "stdout",
     "output_type": "stream",
     "text": [
      "you need magic powers\n"
     ]
    }
   ],
   "source": [
    "# Witchcraft game\n",
    "is_magician = False\n",
    "is_expert = False\n",
    "\n",
    "\n",
    "if is_magician and is_expert:\n",
    "    print(\"you are a master magician\")\n",
    "elif is_magician and not is_expert:\n",
    "    print(\"at least you're getting there\")\n",
    "elif not is_magician:\n",
    "    print(\"you need magic powers\")\n",
    "else:\n",
    "    print(\"upgrade\")"
   ]
  },
  {
   "cell_type": "code",
   "execution_count": 3,
   "id": "e5653464-c416-445e-b849-9e6e0c3bc787",
   "metadata": {},
   "outputs": [
    {
     "name": "stdout",
     "output_type": "stream",
     "text": [
      "1\n",
      "3\n",
      "6\n",
      "10\n",
      "15\n",
      "21\n",
      "28\n",
      "36\n",
      "45\n",
      "55\n",
      "this is the end sum which is 55\n"
     ]
    }
   ],
   "source": [
    "# for loop counter to count the items in our lists and sum up the total.\n",
    "my_list = [1, 2, 3, 4, 5, 6, 7, 8, 9, 10]\n",
    "\n",
    "counter = 0\n",
    "for to in my_list:  # it doesn't have to be item, that is why i tried another word\n",
    "    counter += to\n",
    "    print(counter) # the answer gets looped over because the print is part of the code block, for.\n",
    "    \n",
    "print(\"this is the end sum which is\", counter) # it prints out the added sum at the end"
   ]
  },
  {
   "cell_type": "code",
   "execution_count": 8,
   "id": "b6a6513f-6eea-4a50-b08f-ca99d879712e",
   "metadata": {
    "tags": []
   },
   "outputs": [
    {
     "name": "stdout",
     "output_type": "stream",
     "text": [
      "0\n",
      "1\n",
      "2\n",
      "3\n",
      "4\n",
      "------------------------------\n",
      "i love you\n",
      "i love you\n",
      "i love you\n",
      "------------------------------\n",
      "5\n",
      "4\n",
      "3\n",
      "2\n",
      "1\n",
      "------------------------------\n",
      "[0, 1, 2, 3, 4, 5, 6, 7, 8, 9]\n",
      "[0, 1, 2, 3, 4, 5, 6, 7, 8, 9]\n"
     ]
    }
   ],
   "source": [
    "for number in range(0, 5):\n",
    "    print(number)\n",
    "print(\"------------------------------\") \n",
    "for go in range(0,5,2):\n",
    "    print(\"i love you\")\n",
    "print(\"------------------------------\") \n",
    "# reverse\n",
    "for number in range(5, 0, -1):\n",
    "    print(number)\n",
    "print(\"------------------------------\") \n",
    "#quick way to create a list with integers\n",
    "for num in range(2):\n",
    "    print(list(range(10)))"
   ]
  },
  {
   "cell_type": "code",
   "execution_count": 11,
   "id": "4659f037-7549-48aa-945b-f7016b4d4bb1",
   "metadata": {
    "tags": []
   },
   "outputs": [
    {
     "name": "stdout",
     "output_type": "stream",
     "text": [
      "0 h\n",
      "1 e\n",
      "2 l\n",
      "3 l\n",
      "4 o\n",
      "the index of 50 is: 25\n"
     ]
    }
   ],
   "source": [
    "# Enumerate: useful if the index counter of the item you are looping through is needed\n",
    "for i, char in enumerate(\"hello\"): #it works for lists, tuple, e.t.c.\n",
    "    print(i,char)\n",
    "    \n",
    "# i want to create a list of even numbers to 100 and know what the index number of 50 is\n",
    "for m, char in enumerate(list(range(0, 100, 2))):\n",
    "    if char == 50:\n",
    "        print(f\"the index of 50 is: {m}\")"
   ]
  },
  {
   "cell_type": "code",
   "execution_count": 18,
   "id": "b34ddda7-d19e-43ed-8d82-fb2ca17327bb",
   "metadata": {
    "tags": []
   },
   "outputs": [
    {
     "name": "stdout",
     "output_type": "stream",
     "text": [
      "   *   \n",
      "  ***  \n",
      " ***** \n",
      "*******\n",
      "   *   \n",
      "   *   \n"
     ]
    }
   ],
   "source": [
    "# Our first GUI\n",
    "picture = [\n",
    "    [0,0,0,1,0,0,0],\n",
    "    [0,0,1,1,1,0,0],\n",
    "    [0,1,1,1,1,1,0],\n",
    "    [1,1,1,1,1,1,1],\n",
    "    [0,0,0,1,0,0,0],\n",
    "    [0,0,0,1,0,0,0]\n",
    "]\n",
    "\n",
    "for row in picture:\n",
    "    for pixel in row:\n",
    "        if (pixel == 1):\n",
    "            print(\"*\", end='')\n",
    "        else:\n",
    "            print(\" \", end='')\n",
    "    print(\"\") # need a new line after every row"
   ]
  },
  {
   "cell_type": "code",
   "execution_count": 48,
   "id": "d1ebaffd-8e98-4ed8-9dde-e1d2ccaeeddf",
   "metadata": {
    "tags": []
   },
   "outputs": [
    {
     "name": "stdout",
     "output_type": "stream",
     "text": [
      "['b', 'n']\n"
     ]
    }
   ],
   "source": [
    "# find duplicates\n",
    "some_list = ['a', 'b', 'c', 'b', 'd', 'm', 'n', 'n']\n",
    "dup = []\n",
    "for item in some_list:\n",
    "    if some_list.count(item) > 1:\n",
    "        if item not in dup:\n",
    "            dup.append(item)\n",
    "print(dup)"
   ]
  },
  {
   "cell_type": "code",
   "execution_count": 5,
   "id": "f127d769-2d58-4c67-89e9-b0e66eb39d80",
   "metadata": {
    "tags": []
   },
   "outputs": [
    {
     "name": "stdout",
     "output_type": "stream",
     "text": [
      "the time is two O' clock\n",
      "['b', 'n']\n",
      "['b', 'n']\n",
      "['b', 'n']\n"
     ]
    }
   ],
   "source": [
    "# Function\n",
    "# To create a function, we use def, i.e. define. E.g.\n",
    "# Functions are very useful for the things you want to do over and over\n",
    "\n",
    "def time():\n",
    "    print('the time is two O\\' clock')\n",
    "    \n",
    "time()\n",
    "\n",
    "# for example, i am going to create a function for the duplicates in the previous block of code\n",
    "\n",
    "some_list = ['a', 'b', 'c', 'b', 'd', 'm', 'n', 'n']\n",
    "duplicates = []\n",
    "def dup():\n",
    "    for item in some_list:\n",
    "        if some_list.count(item) > 1:\n",
    "            if item not in duplicates:\n",
    "                duplicates.append(item)\n",
    "    print(duplicates)\n",
    "\n",
    "dup()\n",
    "dup()\n",
    "dup() # with the function dup() created, i can call the duplicates anytime i want"
   ]
  },
  {
   "cell_type": "code",
   "execution_count": 1,
   "id": "a8f7c8ee-5565-4710-bd4d-e7469f37ac5d",
   "metadata": {
    "tags": []
   },
   "outputs": [
    {
     "name": "stdout",
     "output_type": "stream",
     "text": [
      "hello Tijesu, Booyah.\n",
      "-----------------------------------------------------\n"
     ]
    },
    {
     "name": "stdin",
     "output_type": "stream",
     "text": [
      "what is your name?  Tijesu\n",
      "what is your catch phrase?  Booyah\n"
     ]
    },
    {
     "name": "stdout",
     "output_type": "stream",
     "text": [
      "hello Tijesu, we are giving you a gift for your catch phrase: Booyah.\n"
     ]
    }
   ],
   "source": [
    "# parameters and arguments\n",
    "# Parameters are used when creating the function i.e.name and catch_phrase are the parameters\n",
    "def say_hello(name, catch_phrase):\n",
    "    print(f\"hello {name}, {catch_phrase}.\")\n",
    "    \n",
    "#Arguments are used when calling the funtion\n",
    "say_hello(\"Tijesu\", \"Booyah\")\n",
    "print(\"-----------------------------------------------------\")\n",
    "#i want to try an input exercise myself for a game company\n",
    "\n",
    "def say_hi(name, catch_phrase):\n",
    "    print(f\"hello {name}, we are giving you a gift for your catch phrase: {catch_phrase}.\")\n",
    "    \n",
    "say_hi(input(\"what is your name? \"), input(\"what is your catch phrase? \"))\n"
   ]
  },
  {
   "cell_type": "markdown",
   "id": "81836235-ff47-4dc9-997b-2495d2975d2d",
   "metadata": {},
   "source": [
    "# Return\n",
    "\n",
    "### Funtions are always set to return something, and if they dont return anything, they automatically print None. for example, this code will print None if it was run.\n",
    "##### def add(num1, num2):\n",
    "#####     num1 + num2 (# there is no return)\n",
    "##### print(add(4,5))\n",
    "\n",
    "### A function does not just return, it also modifies things. see that in (# funtion modifies)\n",
    "#### Generally, a function should do something really well and a function should return something. This means, we should make sure our function does one thing at a time. in the (# function modifies), the function is doing multiple things and it can be confusing. This doesnt mean the code has to be one line.\n",
    "#### A return keyword automaticallly exits the function, that the next line of code is not going to be interpreted, check (# return exits funtion)"
   ]
  },
  {
   "cell_type": "code",
   "execution_count": 20,
   "id": "400d3950-29e7-4774-8b64-f4fef96cadbd",
   "metadata": {
    "tags": []
   },
   "outputs": [
    {
     "name": "stdout",
     "output_type": "stream",
     "text": [
      "9\n",
      "----------------------------------\n",
      "9\n",
      "----------------------------------\n",
      "hello\n",
      "9\n",
      "----------------------------------\n",
      "13\n",
      "18\n",
      "----------------------------------\n",
      "9\n"
     ]
    }
   ],
   "source": [
    "#normal function without return\n",
    "def add(num1, num2):\n",
    "    print(num1 + num2)\n",
    "    \n",
    "add(4,5)\n",
    "\n",
    "print(\"----------------------------------\")\n",
    "\n",
    "#Now with return\n",
    "\n",
    "def add(num1, num2):\n",
    "    return num1 + num2 \n",
    "print(add(4,5))\n",
    "\n",
    "print(\"----------------------------------\")\n",
    "\n",
    "# function modifies\n",
    "def add(num1, num2):\n",
    "    print(\"hello\") # it still prints this out\n",
    "    return num1 + num2 \n",
    "print(add(4,5))\n",
    "\n",
    "print(\"----------------------------------\")\n",
    "\n",
    "# for example, if the first return was a fixed one, we would assign whatt we are returning\n",
    "def add(num1, num2):\n",
    "    return num1 + num2 \n",
    "total = add(4,5)\n",
    "print(add(4,total))\n",
    "print(add(9,total))\n",
    "\n",
    "print(\"----------------------------------\")\n",
    "\n",
    "# return exits funtion\n",
    "def add(num1, num2):\n",
    "    return num1 + num2 \n",
    "    print(\"I love python\")\n",
    "    return 5843                 # it wont print out any of these\n",
    "    print(\"My God is awesome\")\n",
    "print(add(4,5))\n"
   ]
  },
  {
   "cell_type": "code",
   "execution_count": 1,
   "id": "6b065e27-3e54-4e1e-bb28-384d9c136845",
   "metadata": {},
   "outputs": [
    {
     "name": "stdout",
     "output_type": "stream",
     "text": [
      "h\n"
     ]
    }
   ],
   "source": [
    "# Doc String: They are used to add info about a function, e.g.\n",
    "def test(a):\n",
    "    '''\n",
    "    info: this function tests and prints param a\n",
    "    '''\n",
    "    print(a)\n",
    "\n",
    "test('h')"
   ]
  },
  {
   "cell_type": "code",
   "execution_count": 10,
   "id": "817c88a6-27ce-4df4-a75d-5ea875bdb237",
   "metadata": {
    "tags": []
   },
   "outputs": [
    {
     "name": "stdout",
     "output_type": "stream",
     "text": [
      "1 2 3 4 5\n"
     ]
    },
    {
     "data": {
      "text/plain": [
       "10"
      ]
     },
     "execution_count": 10,
     "metadata": {},
     "output_type": "execute_result"
    }
   ],
   "source": [
    "# Arguements and keyword arguements\n",
    "# *args and **kwargs\n",
    "\n",
    "def super_func(*args): # the '*' made it possible to recieve more than one positional argument. The args can be any word.\n",
    "    print(*args)\n",
    "    return sum(args)\n",
    "super_func(1,2,3,4,5)\n",
    "\n",
    "# **kwargs\n",
    "def supe(**kwargs):\n",
    "    total = 0\n",
    "    for items in kwargs.values():\n",
    "9        total += items\n",
    "    return total\n",
    "supe(n1 = 3, n2 = 7)"
   ]
  },
  {
   "cell_type": "code",
   "execution_count": 29,
   "id": "6870185e-eda9-4ebe-8caa-a2d6abd366cf",
   "metadata": {
    "tags": []
   },
   "outputs": [
    {
     "name": "stdout",
     "output_type": "stream",
     "text": [
      "10\n"
     ]
    }
   ],
   "source": [
    "# Exercise in gettin the highest even number\n",
    "def highest_even(list):\n",
    "    even_num = []\n",
    "    for item in list:\n",
    "        if item % 2 == 0:\n",
    "            even_num.append(item)\n",
    "    return max(even_num)\n",
    "print(highest_even([10,2,3,4,8,11]))"
   ]
  },
  {
   "cell_type": "code",
   "execution_count": 1,
   "id": "b090e30a-dd19-46f6-a23e-76f2198896da",
   "metadata": {},
   "outputs": [
    {
     "name": "stdout",
     "output_type": "stream",
     "text": [
      "4\n"
     ]
    }
   ],
   "source": [
    "# Scope\n",
    "#Using the global scope for the function i.e the variable before the function\n",
    "\n",
    "total = 0\n",
    "\n",
    "def count():\n",
    "    global total   # global is used to call the variable, total = 0, unless it wouold give an error\n",
    "    total += 1\n",
    "    return total\n",
    "count()\n",
    "count()\n",
    "count()\n",
    "print(count())"
   ]
  },
  {
   "cell_type": "code",
   "execution_count": null,
   "id": "44671f25-18bd-4848-b38b-b8ea352cee33",
   "metadata": {},
   "outputs": [],
   "source": []
  },
  {
   "cell_type": "code",
   "execution_count": null,
   "id": "2e7c9499-f818-4806-8d8c-43b6ec0489f6",
   "metadata": {},
   "outputs": [],
   "source": []
  }
 ],
 "metadata": {
  "kernelspec": {
   "display_name": "Python 3 (ipykernel)",
   "language": "python",
   "name": "python3"
  },
  "language_info": {
   "codemirror_mode": {
    "name": "ipython",
    "version": 3
   },
   "file_extension": ".py",
   "mimetype": "text/x-python",
   "name": "python",
   "nbconvert_exporter": "python",
   "pygments_lexer": "ipython3",
   "version": "3.11.5"
  }
 },
 "nbformat": 4,
 "nbformat_minor": 5
}
